{
 "cells": [
  {
   "cell_type": "code",
   "execution_count": 12,
   "metadata": {},
   "outputs": [],
   "source": [
    "from datasets import load_dataset\n",
    "\n",
    "dataset = load_dataset(\"ImperialCollegeLondon/health_fact\", trust_remote_code=True)\n",
    "\n",
    "train_dataset = dataset[\"train\"]\n",
    "validation_dataset = dataset[\"validation\"]\n",
    "test_dataset = dataset[\"test\"]\n"
   ]
  },
  {
   "cell_type": "markdown",
   "metadata": {},
   "source": [
    "### Build Logic:"
   ]
  },
  {
   "cell_type": "code",
   "execution_count": null,
   "metadata": {},
   "outputs": [],
   "source": [
    "ARG1 = \"ImperialCollegeLondon/health_fact\"\n",
    "ARG2 = \"./data/raw\"\n",
    "\n",
    "dataset = ARG1\n",
    "output_dir = ARG2"
   ]
  },
  {
   "cell_type": "code",
   "execution_count": 15,
   "metadata": {},
   "outputs": [],
   "source": [
    "dataset = ARG1\n",
    "output_dir = ARG2"
   ]
  },
  {
   "cell_type": "code",
   "execution_count": 10,
   "metadata": {},
   "outputs": [],
   "source": [
    "data = load_dataset(dataset, trust_remote_code=True)"
   ]
  },
  {
   "cell_type": "code",
   "execution_count": 11,
   "metadata": {},
   "outputs": [
    {
     "name": "stdout",
     "output_type": "stream",
     "text": [
      "Saving train split to ./data/raw/train.csv...\n"
     ]
    },
    {
     "name": "stderr",
     "output_type": "stream",
     "text": [
      "Creating CSV from Arrow format: 100%|██████████| 10/10 [00:00<00:00, 16.34ba/s]\n"
     ]
    },
    {
     "name": "stdout",
     "output_type": "stream",
     "text": [
      "Saving test split to ./data/raw/test.csv...\n"
     ]
    },
    {
     "name": "stderr",
     "output_type": "stream",
     "text": [
      "Creating CSV from Arrow format: 100%|██████████| 2/2 [00:00<00:00, 26.43ba/s]\n"
     ]
    },
    {
     "name": "stdout",
     "output_type": "stream",
     "text": [
      "Saving validation split to ./data/raw/validation.csv...\n"
     ]
    },
    {
     "name": "stderr",
     "output_type": "stream",
     "text": [
      "Creating CSV from Arrow format: 100%|██████████| 2/2 [00:00<00:00, 27.61ba/s]\n"
     ]
    }
   ],
   "source": [
    "for split in data.keys():\n",
    "    output_file = os.path.join(output_dir, f\"{split}.csv\")\n",
    "    print(f\"Saving {split} split to {output_file}...\")\n",
    "    data[split].to_csv(output_file)"
   ]
  },
  {
   "cell_type": "code",
   "execution_count": null,
   "metadata": {},
   "outputs": [
    {
     "name": "stdout",
     "output_type": "stream",
     "text": [
      "Downloading dataset 'ImperialCollegeLondon/health_fact'\n",
      "Saving train split to ./data/raw/train.csv...\n"
     ]
    },
    {
     "name": "stderr",
     "output_type": "stream",
     "text": [
      "Creating CSV from Arrow format: 100%|██████████| 10/10 [00:00<00:00, 16.51ba/s]\n"
     ]
    },
    {
     "name": "stdout",
     "output_type": "stream",
     "text": [
      "Saving test split to ./data/raw/test.csv...\n"
     ]
    },
    {
     "name": "stderr",
     "output_type": "stream",
     "text": [
      "Creating CSV from Arrow format: 100%|██████████| 2/2 [00:00<00:00, 27.11ba/s]\n"
     ]
    },
    {
     "name": "stdout",
     "output_type": "stream",
     "text": [
      "Saving validation split to ./data/raw/validation.csv...\n"
     ]
    },
    {
     "name": "stderr",
     "output_type": "stream",
     "text": [
      "Creating CSV from Arrow format: 100%|██████████| 2/2 [00:00<00:00, 27.59ba/s]"
     ]
    },
    {
     "name": "stdout",
     "output_type": "stream",
     "text": [
      "Dataset successfully saved to './data/raw'.\n"
     ]
    },
    {
     "name": "stderr",
     "output_type": "stream",
     "text": [
      "\n"
     ]
    }
   ],
   "source": [
    "try:\n",
    "    print(f\"Downloading dataset '{dataset}'\")\n",
    "    data = load_dataset(dataset, trust_remote_code=True)\n",
    "\n",
    "    os.makedirs(output_dir, exist_ok=True)\n",
    "\n",
    "    for split in data.keys():\n",
    "        output_file = os.path.join(output_dir, f\"{split}.csv\")\n",
    "        print(f\"Saving {split} split to {output_file}...\")\n",
    "        data[split].to_csv(output_file)\n",
    "\n",
    "    print(f\"Dataset successfully saved to '{output_dir}'.\")\n",
    "except Exception as e:\n",
    "    print(f\"Error: {e}\")"
   ]
  },
  {
   "cell_type": "code",
   "execution_count": 2,
   "metadata": {},
   "outputs": [],
   "source": [
    "ARG1 = \"ImperialCollegeLondon/health_fact\"\n",
    "ARG2 = \"./data/raw\"\n",
    "\n",
    "dataset = ARG1\n",
    "output_dir = ARG2"
   ]
  },
  {
   "cell_type": "code",
   "execution_count": null,
   "metadata": {},
   "outputs": [
    {
     "name": "stdout",
     "output_type": "stream",
     "text": [
      "Downloading dataset 'ImperialCollegeLondon/health_fact'\n",
      "Saving train split to ./data/raw/train.csv\n"
     ]
    },
    {
     "name": "stderr",
     "output_type": "stream",
     "text": [
      "Creating CSV from Arrow format: 100%|██████████| 10/10 [00:00<00:00, 14.19ba/s]\n"
     ]
    },
    {
     "name": "stdout",
     "output_type": "stream",
     "text": [
      "Saving test split to ./data/raw/test.csv\n"
     ]
    },
    {
     "name": "stderr",
     "output_type": "stream",
     "text": [
      "Creating CSV from Arrow format: 100%|██████████| 2/2 [00:00<00:00, 22.58ba/s]\n"
     ]
    },
    {
     "name": "stdout",
     "output_type": "stream",
     "text": [
      "Saving validation split to ./data/raw/validation.csv\n"
     ]
    },
    {
     "name": "stderr",
     "output_type": "stream",
     "text": [
      "Creating CSV from Arrow format: 100%|██████████| 2/2 [00:00<00:00, 23.11ba/s]"
     ]
    },
    {
     "name": "stdout",
     "output_type": "stream",
     "text": [
      "Dataset saved to './data/raw'.\n"
     ]
    },
    {
     "name": "stderr",
     "output_type": "stream",
     "text": [
      "\n"
     ]
    }
   ],
   "source": [
    "from datasets import load_dataset\n",
    "import os\n",
    "\n",
    "\n",
    "def download_and_save_dataset(dataset: str, output_dir: str) -> None:\n",
    "    try:\n",
    "        print(f\"Downloading dataset '{dataset}'\")\n",
    "        data = load_dataset(dataset, trust_remote_code=True)\n",
    "    \n",
    "        os.makedirs(output_dir, exist_ok=True)\n",
    "        for split, split_data in data.items():\n",
    "            output_file = os.path.join(output_dir, f\"{split}.csv\")\n",
    "            print(f\"Saving {split} split to {output_file}\")\n",
    "            split_data.to_csv(output_file)\n",
    "\n",
    "        print(f\"Dataset saved to '{output_dir}'.\")\n",
    "    except Exception as e:\n",
    "        print(f\"Error during dataset processing {e}\")\n",
    "\n",
    "download_and_save_dataset(ARG1, ARG2) "
   ]
  },
  {
   "cell_type": "code",
   "execution_count": null,
   "metadata": {},
   "outputs": [],
   "source": []
  }
 ],
 "metadata": {
  "kernelspec": {
   "display_name": "quantum1",
   "language": "python",
   "name": "python3"
  },
  "language_info": {
   "codemirror_mode": {
    "name": "ipython",
    "version": 3
   },
   "file_extension": ".py",
   "mimetype": "text/x-python",
   "name": "python",
   "nbconvert_exporter": "python",
   "pygments_lexer": "ipython3",
   "version": "3.12.3"
  }
 },
 "nbformat": 4,
 "nbformat_minor": 2
}
